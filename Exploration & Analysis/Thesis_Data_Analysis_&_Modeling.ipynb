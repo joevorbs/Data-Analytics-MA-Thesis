{
 "cells": [
  {
   "cell_type": "code",
   "execution_count": 807,
   "metadata": {},
   "outputs": [],
   "source": [
    "#Import packages\n",
    "import pandas as pd\n",
    "import numpy as np\n",
    "import itertools\n",
    "import seaborn as sns\n",
    "import matplotlib.pyplot as plt\n",
    "from scipy import stats\n",
    "from sklearn.linear_model import LogisticRegression\n",
    "import statsmodels.api as sm"
   ]
  },
  {
   "cell_type": "code",
   "execution_count": 808,
   "metadata": {},
   "outputs": [],
   "source": [
    "#Read in Survey Data\n",
    "df = pd.read_csv(\"/Users/joevorbeck/Documents/Data-Analytics-MA-Thesis/data.csv\")"
   ]
  },
  {
   "cell_type": "code",
   "execution_count": 809,
   "metadata": {},
   "outputs": [],
   "source": [
    "#Check out the df\n",
    "#df.head()"
   ]
  },
  {
   "cell_type": "code",
   "execution_count": 810,
   "metadata": {},
   "outputs": [],
   "source": [
    "                                        ### Data Pre-Processing ###"
   ]
  },
  {
   "cell_type": "code",
   "execution_count": 811,
   "metadata": {},
   "outputs": [],
   "source": [
    "#Rename column for us region\n",
    "df.rename(columns = {\"If you live in the United States, which state or territory do you live in?\" : \"US_Region\"},inplace = True)"
   ]
  },
  {
   "cell_type": "code",
   "execution_count": 812,
   "metadata": {},
   "outputs": [],
   "source": [
    "#Dropping the timestamps and the notes/comments field\n",
    "df = df.drop(['Timestamp', 'Any additional notes or comments'], axis = 1)"
   ]
  },
  {
   "cell_type": "code",
   "execution_count": 813,
   "metadata": {},
   "outputs": [],
   "source": [
    "#Check ages prior to binning\n",
    "#df['Age'].value_counts()\n",
    "\n",
    "#Check distribution of ages\n",
    "#df['Age'].hist(bins  = 45)\n",
    "\n",
    "#Need to remove ages that are non-sensical, i.e '-329','-99999'\n",
    "df = df[(df.Age >= 18) & (df.Age <= 75)]"
   ]
  },
  {
   "cell_type": "code",
   "execution_count": 814,
   "metadata": {},
   "outputs": [
    {
     "data": {
      "text/plain": [
       "<matplotlib.axes._subplots.AxesSubplot at 0x1c3186a160>"
      ]
     },
     "execution_count": 814,
     "metadata": {},
     "output_type": "execute_result"
    },
    {
     "data": {
      "image/png": "[encoded data removed]",
      "text/plain": [
       "<Figure size 432x288 with 1 Axes>"
      ]
     },
     "metadata": {
      "needs_background": "light"
     },
     "output_type": "display_data"
    }
   ],
   "source": [
    "#Check distribution of ages\n",
    "df['Age'].hist(bins  = 45)"
   ]
  },
  {
   "cell_type": "code",
   "execution_count": 815,
   "metadata": {},
   "outputs": [],
   "source": [
    "#Column values\n",
    "country_list = df['Country']\n",
    "region_list = df['US_Region']\n",
    "\n",
    "#Gender is a freeform field so need to account for typos and different spellings\n",
    "gender_list = df['Gender']\n",
    "#set(gender_list)"
   ]
  },
  {
   "cell_type": "code",
   "execution_count": 816,
   "metadata": {},
   "outputs": [],
   "source": [
    "#Focusing on two tech-hub cities: NY & CA\n",
    "region_list_binned = [x if x in ['NY','CA'] else \"Other\" for x in region_list]"
   ]
  },
  {
   "cell_type": "code",
   "execution_count": 817,
   "metadata": {},
   "outputs": [],
   "source": [
    "#As there are other genders in the survey and we are concerned with male & female, the others will be binned\n",
    "def val_changer(y):\n",
    "    for x in y:\n",
    "        if x in ['Male','Mail','M','Male ','Man','Malr','maile','male','msle']:\n",
    "            x = 'Male'\n",
    "        elif x in ['F','Female','Femake','Female ','femail','female','f']:\n",
    "            x = 'Female'\n",
    "        else:\n",
    "            x = 'Other'\n",
    "        return x\n",
    "\n",
    "gender_list_binned = gender_list.apply(val_changer)"
   ]
  },
  {
   "cell_type": "code",
   "execution_count": 818,
   "metadata": {},
   "outputs": [],
   "source": [
    "#List of unique countries included in the survey\n",
    "#set(country_list)\n",
    "\n",
    "#List of continents for binning\n",
    "europe = ['Austria','Belgium','Bulgaria','Boznia and Herzegovina','Croatia','Czeh Republic','Denmark','Finland','France','Germany','Greece','Hungary','Ireland','Italy','Latvia','Moldova','Netherlands','Poland','Portugal','Poland','Romania','Slovenia','Spain','Sweden','United Kingdom','Russia','Norway','Switzerland']\n",
    "asia = ['China','India','Japan','Philippines','Singapore','Thailand','Georgia']\n",
    "south_america = ['Brazil','Colombia','Costa Rica','Uruguay']\n",
    "africa = ['South Africa','Zimbabwe','Nigera']\n",
    "oceania = ['New Zealand','Australia']"
   ]
  },
  {
   "cell_type": "code",
   "execution_count": 819,
   "metadata": {},
   "outputs": [],
   "source": [
    "def country_bin(x):\n",
    "    if x['Country'] == 'United States':\n",
    "        x = 'United States'\n",
    "    elif x['Country'] in europe:\n",
    "        x = 'Europe'\n",
    "    elif x['Country'] in asia:\n",
    "        x = 'Asia'\n",
    "    elif x['Country'] in south_america:\n",
    "        x = 'South America'\n",
    "    elif x['Country'] in oceania:\n",
    "        x = 'Oceania'\n",
    "    elif x['Country'] in africa:\n",
    "        x = 'Africa'\n",
    "    elif x['Country'] == 'Mexico':\n",
    "        x = 'Mexico'\n",
    "    elif x['Country'] == 'Canada':\n",
    "        x = 'Canada'\n",
    "    else:\n",
    "        x = 'The Bahamas'\n",
    "    return x\n",
    "\n",
    "df['Country'] = df.apply(country_bin, axis = 1)"
   ]
  },
  {
   "cell_type": "code",
   "execution_count": 820,
   "metadata": {},
   "outputs": [],
   "source": [
    "#Bin Ages\n",
    "def age_bin(x):\n",
    "        if x['Age'] <= 30:\n",
    "            x = 1\n",
    "        elif x['Age'] > 30:\n",
    "            x = 0\n",
    "        return x\n",
    "\n",
    "df['Age'] = df.apply(age_bin, axis = 1)"
   ]
  },
  {
   "cell_type": "code",
   "execution_count": 821,
   "metadata": {},
   "outputs": [],
   "source": [
    "#Convert DV columns into binomial format\n",
    "#DV 1 - Bin yes and some of them to 1, no 0\n",
    "def supervisor_dv(x):\n",
    "    if x['Would you be willing to discuss a mental health issue with your direct supervisor(s)?'] == 'Yes' or x['Would you be willing to discuss a mental health issue with your direct supervisor(s)?'] == 'Some of them':\n",
    "        val = 1\n",
    "    else:\n",
    "        val = 0    \n",
    "    return val \n",
    "\n",
    "#DV 2 - Bin yes and maybe to 1, no 0\n",
    "def neg_consq(x):\n",
    "    if x['Do you think that discussing a mental health issue with your employer would have negative consequences?'] == 'Yes' or x['Do you think that discussing a mental health issue with your employer would have negative consequences?'] == 'Maybe':\n",
    "        val = 1\n",
    "    else:\n",
    "        val = 0\n",
    "    return val"
   ]
  },
  {
   "cell_type": "code",
   "execution_count": 822,
   "metadata": {},
   "outputs": [],
   "source": [
    "#Create DVs\n",
    "df['mh_issue_supervisor'] = df.apply(supervisor_dv, axis = 1)\n",
    "df['mh_issue_neg_consq'] = df.apply(neg_consq, axis = 1)"
   ]
  },
  {
   "cell_type": "code",
   "execution_count": 823,
   "metadata": {},
   "outputs": [],
   "source": [
    "#Drop old values and replace df with new ones for country and us region\n",
    "df.drop(['US_Region','Gender'], axis = 1, inplace = True)\n",
    "df['US_Region'] = region_list_binned\n",
    "df['Gender'] = gender_list_binned"
   ]
  },
  {
   "cell_type": "code",
   "execution_count": 824,
   "metadata": {},
   "outputs": [],
   "source": [
    "#Use 'other' gender as a filter for the DF\n",
    "df = df[df.Gender != 'Other']"
   ]
  },
  {
   "cell_type": "code",
   "execution_count": 825,
   "metadata": {},
   "outputs": [],
   "source": [
    "#Create dummy variables \n",
    "df2 = pd.get_dummies(df)"
   ]
  },
  {
   "cell_type": "code",
   "execution_count": 826,
   "metadata": {},
   "outputs": [],
   "source": [
    "                                ### Begin Stepwise Logistic Models ###"
   ]
  },
  {
   "cell_type": "code",
   "execution_count": 827,
   "metadata": {},
   "outputs": [],
   "source": [
    "#Create sets of independent variables\n",
    "x_main = df2['Is your employer primarily a tech company/organization?_Yes']\n",
    "x_main_demog = df2[['Have you sought treatment for a mental health condition?_Yes','Is your employer primarily a tech company/organization?_Yes', 'Age','Gender_Male','Country_United States','Country_Mexico','Country_Africa','Country_Canada','Country_Oceania','Country_Asia','Country_South America','Country_The Bahamas','Do you have a family history of mental illness?_Yes']]\n",
    "x_main_demog_work = df2[['Have you sought treatment for a mental health condition?_Yes','Is your employer primarily a tech company/organization?_Yes', 'Age','Gender_Male','Country_United States','Country_Mexico','Country_Africa','Country_Canada','Country_Oceania','Country_Asia','Country_South America','Country_The Bahamas','Do you have a family history of mental illness?_Yes','Are you self-employed?_Yes','Do you work remotely (outside of an office) at least 50% of the time?_Yes']]\n",
    "x_main_demog_work_employer = df2[['Have you sought treatment for a mental health condition?_Yes','Is your employer primarily a tech company/organization?_Yes', 'Age','Gender_Male','Country_United States','Country_Mexico','Country_Africa','Country_Canada','Country_Oceania','Country_Asia','Country_South America','Country_The Bahamas','Do you have a family history of mental illness?_Yes','Are you self-employed?_Yes','Do you work remotely (outside of an office) at least 50% of the time?_Yes','How many employees does your company or organization have?_100-500','How many employees does your company or organization have?_26-100','How many employees does your company or organization have?_500-1000','How many employees does your company or organization have?_6-25','How many employees does your company or organization have?_More than 1000',\"Does your employer provide mental health benefits?_Don't know\",'Does your employer provide mental health benefits?_Yes',\"Is your anonymity protected if you choose to take advantage of mental health or substance abuse treatment resources?_Don't know\", 'Is your anonymity protected if you choose to take advantage of mental health or substance abuse treatment resources?_Yes','How easy is it for you to take medical leave for a mental health condition?_Somewhat difficult','How easy is it for you to take medical leave for a mental health condition?_Somewhat easy','How easy is it for you to take medical leave for a mental health condition?_Very difficult','How easy is it for you to take medical leave for a mental health condition?_Very easy']]\n",
    "\n",
    "#Create sets of dependent variables\n",
    "y_supervisor = df['mh_issue_supervisor']\n",
    "y_consq = df['mh_issue_neg_consq']"
   ]
  },
  {
   "cell_type": "code",
   "execution_count": 828,
   "metadata": {},
   "outputs": [],
   "source": [
    "                                ### Starting with First Dependent Variable ###                                \n",
    "                            ### First Logit Model Using Main Independent Variable ###                          "
   ]
  },
  {
   "cell_type": "code",
   "execution_count": 829,
   "metadata": {
    "scrolled": false
   },
   "outputs": [
    {
     "name": "stdout",
     "output_type": "stream",
     "text": [
      "Optimization terminated successfully.\n",
      "         Current function value: 0.631812\n",
      "         Iterations 5\n"
     ]
    },
    {
     "data": {
      "text/html": [
       "<table class=\"simpletable\">\n",
       "<caption>Logit Regression Results</caption>\n",
       "<tr>\n",
       "  <th>Dep. Variable:</th> <td>mh_issue_supervisor</td> <th>  No. Observations:  </th>  <td>   987</td> \n",
       "</tr>\n",
       "<tr>\n",
       "  <th>Model:</th>                <td>Logit</td>        <th>  Df Residuals:      </th>  <td>   986</td> \n",
       "</tr>\n",
       "<tr>\n",
       "  <th>Method:</th>                <td>MLE</td>         <th>  Df Model:          </th>  <td>     0</td> \n",
       "</tr>\n",
       "<tr>\n",
       "  <th>Date:</th>           <td>Fri, 10 Apr 2020</td>   <th>  Pseudo R-squ.:     </th> <td>-0.01395</td>\n",
       "</tr>\n",
       "<tr>\n",
       "  <th>Time:</th>               <td>17:02:25</td>       <th>  Log-Likelihood:    </th> <td> -623.60</td>\n",
       "</tr>\n",
       "<tr>\n",
       "  <th>converged:</th>            <td>True</td>         <th>  LL-Null:           </th> <td> -615.02</td>\n",
       "</tr>\n",
       "<tr>\n",
       "  <th> </th>                       <td> </td>          <th>  LLR p-value:       </th>  <td>   nan</td> \n",
       "</tr>\n",
       "</table>\n",
       "<table class=\"simpletable\">\n",
       "<tr>\n",
       "                               <td></td>                                  <th>coef</th>     <th>std err</th>      <th>z</th>      <th>P>|z|</th>  <th>[0.025</th>    <th>0.975]</th>  \n",
       "</tr>\n",
       "<tr>\n",
       "  <th>Is your employer primarily a tech company/organization?_Yes</th> <td>    0.8047</td> <td>    0.076</td> <td>   10.576</td> <td> 0.000</td> <td>    0.656</td> <td>    0.954</td>\n",
       "</tr>\n",
       "</table>"
      ],
      "text/plain": [
       "<class 'statsmodels.iolib.summary.Summary'>\n",
       "\"\"\"\n",
       "                            Logit Regression Results                           \n",
       "===============================================================================\n",
       "Dep. Variable:     mh_issue_supervisor   No. Observations:                  987\n",
       "Model:                           Logit   Df Residuals:                      986\n",
       "Method:                            MLE   Df Model:                            0\n",
       "Date:                 Fri, 10 Apr 2020   Pseudo R-squ.:                -0.01395\n",
       "Time:                         17:02:25   Log-Likelihood:                -623.60\n",
       "converged:                        True   LL-Null:                       -615.02\n",
       "                                         LLR p-value:                       nan\n",
       "===============================================================================================================================\n",
       "                                                                  coef    std err          z      P>|z|      [0.025      0.975]\n",
       "-------------------------------------------------------------------------------------------------------------------------------\n",
       "Is your employer primarily a tech company/organization?_Yes     0.8047      0.076     10.576      0.000       0.656       0.954\n",
       "===============================================================================================================================\n",
       "\"\"\""
      ]
     },
     "execution_count": 829,
     "metadata": {},
     "output_type": "execute_result"
    }
   ],
   "source": [
    "#Logit 1a, 1b\n",
    "logit_sup = sm.Logit(y_supervisor, x_main).fit()\n",
    "logit_sup.summary()"
   ]
  },
  {
   "cell_type": "code",
   "execution_count": 830,
   "metadata": {},
   "outputs": [
    {
     "data": {
      "text/plain": [
       "1249.1974741614558"
      ]
     },
     "execution_count": 830,
     "metadata": {},
     "output_type": "execute_result"
    }
   ],
   "source": [
    "logit_sup.aic"
   ]
  },
  {
   "cell_type": "code",
   "execution_count": 831,
   "metadata": {},
   "outputs": [],
   "source": [
    "                         ### Second Logit Model Adding in Demographic Level Variables ###"
   ]
  },
  {
   "cell_type": "code",
   "execution_count": 832,
   "metadata": {},
   "outputs": [
    {
     "name": "stdout",
     "output_type": "stream",
     "text": [
      "Warning: Maximum number of iterations has been exceeded.\n",
      "         Current function value: 0.619019\n",
      "         Iterations: 35\n"
     ]
    },
    {
     "name": "stderr",
     "output_type": "stream",
     "text": [
      "/Users/joevorbeck/anaconda3/lib/python3.7/site-packages/statsmodels/base/model.py:508: ConvergenceWarning: Maximum Likelihood optimization failed to converge. Check mle_retvals\n",
      "  \"Check mle_retvals\", ConvergenceWarning)\n"
     ]
    },
    {
     "data": {
      "text/html": [
       "<table class=\"simpletable\">\n",
       "<caption>Logit Regression Results</caption>\n",
       "<tr>\n",
       "  <th>Dep. Variable:</th> <td>mh_issue_supervisor</td> <th>  No. Observations:  </th>  <td>   987</td> \n",
       "</tr>\n",
       "<tr>\n",
       "  <th>Model:</th>                <td>Logit</td>        <th>  Df Residuals:      </th>  <td>   974</td> \n",
       "</tr>\n",
       "<tr>\n",
       "  <th>Method:</th>                <td>MLE</td>         <th>  Df Model:          </th>  <td>    12</td> \n",
       "</tr>\n",
       "<tr>\n",
       "  <th>Date:</th>           <td>Fri, 10 Apr 2020</td>   <th>  Pseudo R-squ.:     </th> <td>0.006578</td>\n",
       "</tr>\n",
       "<tr>\n",
       "  <th>Time:</th>               <td>17:02:25</td>       <th>  Log-Likelihood:    </th> <td> -610.97</td>\n",
       "</tr>\n",
       "<tr>\n",
       "  <th>converged:</th>            <td>False</td>        <th>  LL-Null:           </th> <td> -615.02</td>\n",
       "</tr>\n",
       "<tr>\n",
       "  <th> </th>                       <td> </td>          <th>  LLR p-value:       </th>  <td>0.7780</td> \n",
       "</tr>\n",
       "</table>\n",
       "<table class=\"simpletable\">\n",
       "<tr>\n",
       "                                <td></td>                                  <th>coef</th>     <th>std err</th>      <th>z</th>      <th>P>|z|</th>  <th>[0.025</th>    <th>0.975]</th>  \n",
       "</tr>\n",
       "<tr>\n",
       "  <th>Have you sought treatment for a mental health condition?_Yes</th> <td>    0.0211</td> <td>    0.145</td> <td>    0.145</td> <td> 0.884</td> <td>   -0.264</td> <td>    0.306</td>\n",
       "</tr>\n",
       "<tr>\n",
       "  <th>Is your employer primarily a tech company/organization?_Yes</th>  <td>    0.3247</td> <td>    0.151</td> <td>    2.156</td> <td> 0.031</td> <td>    0.030</td> <td>    0.620</td>\n",
       "</tr>\n",
       "<tr>\n",
       "  <th>Age</th>                                                          <td>    0.0762</td> <td>    0.133</td> <td>    0.573</td> <td> 0.567</td> <td>   -0.185</td> <td>    0.337</td>\n",
       "</tr>\n",
       "<tr>\n",
       "  <th>Gender_Male</th>                                                  <td>    0.3608</td> <td>    0.135</td> <td>    2.663</td> <td> 0.008</td> <td>    0.095</td> <td>    0.626</td>\n",
       "</tr>\n",
       "<tr>\n",
       "  <th>Country_United States</th>                                        <td>    0.1932</td> <td>    0.144</td> <td>    1.341</td> <td> 0.180</td> <td>   -0.089</td> <td>    0.476</td>\n",
       "</tr>\n",
       "<tr>\n",
       "  <th>Country_Mexico</th>                                               <td>   16.5261</td> <td> 5463.356</td> <td>    0.003</td> <td> 0.998</td> <td>-1.07e+04</td> <td> 1.07e+04</td>\n",
       "</tr>\n",
       "<tr>\n",
       "  <th>Country_Africa</th>                                               <td>   30.3308</td> <td> 2.28e+06</td> <td> 1.33e-05</td> <td> 1.000</td> <td>-4.48e+06</td> <td> 4.48e+06</td>\n",
       "</tr>\n",
       "<tr>\n",
       "  <th>Country_Canada</th>                                               <td>    0.3631</td> <td>    0.318</td> <td>    1.141</td> <td> 0.254</td> <td>   -0.261</td> <td>    0.987</td>\n",
       "</tr>\n",
       "<tr>\n",
       "  <th>Country_Oceania</th>                                              <td>   -0.2131</td> <td>    0.428</td> <td>   -0.498</td> <td> 0.619</td> <td>   -1.052</td> <td>    0.626</td>\n",
       "</tr>\n",
       "<tr>\n",
       "  <th>Country_Asia</th>                                                 <td>   -0.7948</td> <td>    0.536</td> <td>   -1.484</td> <td> 0.138</td> <td>   -1.845</td> <td>    0.255</td>\n",
       "</tr>\n",
       "<tr>\n",
       "  <th>Country_South America</th>                                        <td>    0.4880</td> <td>    0.815</td> <td>    0.599</td> <td> 0.549</td> <td>   -1.109</td> <td>    2.085</td>\n",
       "</tr>\n",
       "<tr>\n",
       "  <th>Country_The Bahamas</th>                                          <td>   -0.1803</td> <td>    0.747</td> <td>   -0.241</td> <td> 0.809</td> <td>   -1.645</td> <td>    1.284</td>\n",
       "</tr>\n",
       "<tr>\n",
       "  <th>Do you have a family history of mental illness?_Yes</th>          <td>    0.0715</td> <td>    0.151</td> <td>    0.473</td> <td> 0.636</td> <td>   -0.225</td> <td>    0.368</td>\n",
       "</tr>\n",
       "</table>"
      ],
      "text/plain": [
       "<class 'statsmodels.iolib.summary.Summary'>\n",
       "\"\"\"\n",
       "                            Logit Regression Results                           \n",
       "===============================================================================\n",
       "Dep. Variable:     mh_issue_supervisor   No. Observations:                  987\n",
       "Model:                           Logit   Df Residuals:                      974\n",
       "Method:                            MLE   Df Model:                           12\n",
       "Date:                 Fri, 10 Apr 2020   Pseudo R-squ.:                0.006578\n",
       "Time:                         17:02:25   Log-Likelihood:                -610.97\n",
       "converged:                       False   LL-Null:                       -615.02\n",
       "                                         LLR p-value:                    0.7780\n",
       "================================================================================================================================\n",
       "                                                                   coef    std err          z      P>|z|      [0.025      0.975]\n",
       "--------------------------------------------------------------------------------------------------------------------------------\n",
       "Have you sought treatment for a mental health condition?_Yes     0.0211      0.145      0.145      0.884      -0.264       0.306\n",
       "Is your employer primarily a tech company/organization?_Yes      0.3247      0.151      2.156      0.031       0.030       0.620\n",
       "Age                                                              0.0762      0.133      0.573      0.567      -0.185       0.337\n",
       "Gender_Male                                                      0.3608      0.135      2.663      0.008       0.095       0.626\n",
       "Country_United States                                            0.1932      0.144      1.341      0.180      -0.089       0.476\n",
       "Country_Mexico                                                  16.5261   5463.356      0.003      0.998   -1.07e+04    1.07e+04\n",
       "Country_Africa                                                  30.3308   2.28e+06   1.33e-05      1.000   -4.48e+06    4.48e+06\n",
       "Country_Canada                                                   0.3631      0.318      1.141      0.254      -0.261       0.987\n",
       "Country_Oceania                                                 -0.2131      0.428     -0.498      0.619      -1.052       0.626\n",
       "Country_Asia                                                    -0.7948      0.536     -1.484      0.138      -1.845       0.255\n",
       "Country_South America                                            0.4880      0.815      0.599      0.549      -1.109       2.085\n",
       "Country_The Bahamas                                             -0.1803      0.747     -0.241      0.809      -1.645       1.284\n",
       "Do you have a family history of mental illness?_Yes              0.0715      0.151      0.473      0.636      -0.225       0.368\n",
       "================================================================================================================================\n",
       "\"\"\""
      ]
     },
     "execution_count": 832,
     "metadata": {},
     "output_type": "execute_result"
    }
   ],
   "source": [
    "#Logit 2a, 2b\n",
    "logit_sup_2 = sm.Logit(y_supervisor, x_main_demog).fit()\n",
    "logit_sup_2.summary()"
   ]
  },
  {
   "cell_type": "code",
   "execution_count": 833,
   "metadata": {},
   "outputs": [
    {
     "data": {
      "text/plain": [
       "1247.9438295665832"
      ]
     },
     "execution_count": 833,
     "metadata": {},
     "output_type": "execute_result"
    }
   ],
   "source": [
    "logit_sup_2.aic"
   ]
  },
  {
   "cell_type": "code",
   "execution_count": 834,
   "metadata": {},
   "outputs": [],
   "source": [
    "                        ### Third Logit Model Adding in Work Level Variables ###"
   ]
  },
  {
   "cell_type": "code",
   "execution_count": 835,
   "metadata": {},
   "outputs": [
    {
     "name": "stdout",
     "output_type": "stream",
     "text": [
      "Warning: Maximum number of iterations has been exceeded.\n",
      "         Current function value: 0.618537\n",
      "         Iterations: 35\n"
     ]
    },
    {
     "name": "stderr",
     "output_type": "stream",
     "text": [
      "/Users/joevorbeck/anaconda3/lib/python3.7/site-packages/statsmodels/base/model.py:508: ConvergenceWarning: Maximum Likelihood optimization failed to converge. Check mle_retvals\n",
      "  \"Check mle_retvals\", ConvergenceWarning)\n"
     ]
    },
    {
     "data": {
      "text/html": [
       "<table class=\"simpletable\">\n",
       "<caption>Logit Regression Results</caption>\n",
       "<tr>\n",
       "  <th>Dep. Variable:</th> <td>mh_issue_supervisor</td> <th>  No. Observations:  </th>  <td>   987</td> \n",
       "</tr>\n",
       "<tr>\n",
       "  <th>Model:</th>                <td>Logit</td>        <th>  Df Residuals:      </th>  <td>   972</td> \n",
       "</tr>\n",
       "<tr>\n",
       "  <th>Method:</th>                <td>MLE</td>         <th>  Df Model:          </th>  <td>    14</td> \n",
       "</tr>\n",
       "<tr>\n",
       "  <th>Date:</th>           <td>Fri, 10 Apr 2020</td>   <th>  Pseudo R-squ.:     </th> <td>0.007352</td>\n",
       "</tr>\n",
       "<tr>\n",
       "  <th>Time:</th>               <td>17:02:25</td>       <th>  Log-Likelihood:    </th> <td> -610.50</td>\n",
       "</tr>\n",
       "<tr>\n",
       "  <th>converged:</th>            <td>False</td>        <th>  LL-Null:           </th> <td> -615.02</td>\n",
       "</tr>\n",
       "<tr>\n",
       "  <th> </th>                       <td> </td>          <th>  LLR p-value:       </th>  <td>0.8283</td> \n",
       "</tr>\n",
       "</table>\n",
       "<table class=\"simpletable\">\n",
       "<tr>\n",
       "                                      <td></td>                                         <th>coef</th>     <th>std err</th>      <th>z</th>      <th>P>|z|</th>  <th>[0.025</th>    <th>0.975]</th>  \n",
       "</tr>\n",
       "<tr>\n",
       "  <th>Have you sought treatment for a mental health condition?_Yes</th>              <td>    0.0205</td> <td>    0.146</td> <td>    0.140</td> <td> 0.888</td> <td>   -0.265</td> <td>    0.306</td>\n",
       "</tr>\n",
       "<tr>\n",
       "  <th>Is your employer primarily a tech company/organization?_Yes</th>               <td>    0.3282</td> <td>    0.155</td> <td>    2.119</td> <td> 0.034</td> <td>    0.025</td> <td>    0.632</td>\n",
       "</tr>\n",
       "<tr>\n",
       "  <th>Age</th>                                                                       <td>    0.0724</td> <td>    0.134</td> <td>    0.541</td> <td> 0.589</td> <td>   -0.190</td> <td>    0.335</td>\n",
       "</tr>\n",
       "<tr>\n",
       "  <th>Gender_Male</th>                                                               <td>    0.3569</td> <td>    0.136</td> <td>    2.617</td> <td> 0.009</td> <td>    0.090</td> <td>    0.624</td>\n",
       "</tr>\n",
       "<tr>\n",
       "  <th>Country_United States</th>                                                     <td>    0.2248</td> <td>    0.148</td> <td>    1.520</td> <td> 0.128</td> <td>   -0.065</td> <td>    0.515</td>\n",
       "</tr>\n",
       "<tr>\n",
       "  <th>Country_Mexico</th>                                                            <td>   16.4487</td> <td> 5457.575</td> <td>    0.003</td> <td> 0.998</td> <td>-1.07e+04</td> <td> 1.07e+04</td>\n",
       "</tr>\n",
       "<tr>\n",
       "  <th>Country_Africa</th>                                                            <td>   30.6954</td> <td> 2.72e+06</td> <td> 1.13e-05</td> <td> 1.000</td> <td>-5.33e+06</td> <td> 5.33e+06</td>\n",
       "</tr>\n",
       "<tr>\n",
       "  <th>Country_Canada</th>                                                            <td>    0.3766</td> <td>    0.319</td> <td>    1.180</td> <td> 0.238</td> <td>   -0.249</td> <td>    1.002</td>\n",
       "</tr>\n",
       "<tr>\n",
       "  <th>Country_Oceania</th>                                                           <td>   -0.1753</td> <td>    0.430</td> <td>   -0.407</td> <td> 0.684</td> <td>   -1.018</td> <td>    0.668</td>\n",
       "</tr>\n",
       "<tr>\n",
       "  <th>Country_Asia</th>                                                              <td>   -0.8136</td> <td>    0.536</td> <td>   -1.519</td> <td> 0.129</td> <td>   -1.864</td> <td>    0.237</td>\n",
       "</tr>\n",
       "<tr>\n",
       "  <th>Country_South America</th>                                                     <td>    0.4913</td> <td>    0.816</td> <td>    0.602</td> <td> 0.547</td> <td>   -1.108</td> <td>    2.091</td>\n",
       "</tr>\n",
       "<tr>\n",
       "  <th>Country_The Bahamas</th>                                                       <td>   -0.1601</td> <td>    0.748</td> <td>   -0.214</td> <td> 0.830</td> <td>   -1.625</td> <td>    1.305</td>\n",
       "</tr>\n",
       "<tr>\n",
       "  <th>Do you have a family history of mental illness?_Yes</th>                       <td>    0.0676</td> <td>    0.152</td> <td>    0.446</td> <td> 0.655</td> <td>   -0.229</td> <td>    0.365</td>\n",
       "</tr>\n",
       "<tr>\n",
       "  <th>Are you self-employed?_Yes</th>                                                <td>    0.1982</td> <td>    0.252</td> <td>    0.786</td> <td> 0.432</td> <td>   -0.296</td> <td>    0.692</td>\n",
       "</tr>\n",
       "<tr>\n",
       "  <th>Do you work remotely (outside of an office) at least 50% of the time?_Yes</th> <td>   -0.1225</td> <td>    0.160</td> <td>   -0.766</td> <td> 0.444</td> <td>   -0.436</td> <td>    0.191</td>\n",
       "</tr>\n",
       "</table>"
      ],
      "text/plain": [
       "<class 'statsmodels.iolib.summary.Summary'>\n",
       "\"\"\"\n",
       "                            Logit Regression Results                           \n",
       "===============================================================================\n",
       "Dep. Variable:     mh_issue_supervisor   No. Observations:                  987\n",
       "Model:                           Logit   Df Residuals:                      972\n",
       "Method:                            MLE   Df Model:                           14\n",
       "Date:                 Fri, 10 Apr 2020   Pseudo R-squ.:                0.007352\n",
       "Time:                         17:02:25   Log-Likelihood:                -610.50\n",
       "converged:                       False   LL-Null:                       -615.02\n",
       "                                         LLR p-value:                    0.8283\n",
       "=============================================================================================================================================\n",
       "                                                                                coef    std err          z      P>|z|      [0.025      0.975]\n",
       "---------------------------------------------------------------------------------------------------------------------------------------------\n",
       "Have you sought treatment for a mental health condition?_Yes                  0.0205      0.146      0.140      0.888      -0.265       0.306\n",
       "Is your employer primarily a tech company/organization?_Yes                   0.3282      0.155      2.119      0.034       0.025       0.632\n",
       "Age                                                                           0.0724      0.134      0.541      0.589      -0.190       0.335\n",
       "Gender_Male                                                                   0.3569      0.136      2.617      0.009       0.090       0.624\n",
       "Country_United States                                                         0.2248      0.148      1.520      0.128      -0.065       0.515\n",
       "Country_Mexico                                                               16.4487   5457.575      0.003      0.998   -1.07e+04    1.07e+04\n",
       "Country_Africa                                                               30.6954   2.72e+06   1.13e-05      1.000   -5.33e+06    5.33e+06\n",
       "Country_Canada                                                                0.3766      0.319      1.180      0.238      -0.249       1.002\n",
       "Country_Oceania                                                              -0.1753      0.430     -0.407      0.684      -1.018       0.668\n",
       "Country_Asia                                                                 -0.8136      0.536     -1.519      0.129      -1.864       0.237\n",
       "Country_South America                                                         0.4913      0.816      0.602      0.547      -1.108       2.091\n",
       "Country_The Bahamas                                                          -0.1601      0.748     -0.214      0.830      -1.625       1.305\n",
       "Do you have a family history of mental illness?_Yes                           0.0676      0.152      0.446      0.655      -0.229       0.365\n",
       "Are you self-employed?_Yes                                                    0.1982      0.252      0.786      0.432      -0.296       0.692\n",
       "Do you work remotely (outside of an office) at least 50% of the time?_Yes    -0.1225      0.160     -0.766      0.444      -0.436       0.191\n",
       "=============================================================================================================================================\n",
       "\"\"\""
      ]
     },
     "execution_count": 835,
     "metadata": {},
     "output_type": "execute_result"
    }
   ],
   "source": [
    "logit_sup_3 = sm.Logit(y_supervisor, x_main_demog_work).fit()\n",
    "logit_sup_3.summary()"
   ]
  },
  {
   "cell_type": "code",
   "execution_count": 836,
   "metadata": {},
   "outputs": [
    {
     "data": {
      "text/plain": [
       "1250.991489001419"
      ]
     },
     "execution_count": 836,
     "metadata": {},
     "output_type": "execute_result"
    }
   ],
   "source": [
    "logit_sup_3.aic"
   ]
  },
  {
   "cell_type": "code",
   "execution_count": 837,
   "metadata": {},
   "outputs": [],
   "source": [
    "                    ### Fourth Logit Model Adding in Employer Level Variables ###"
   ]
  },
  {
   "cell_type": "code",
   "execution_count": 838,
   "metadata": {},
   "outputs": [
    {
     "name": "stdout",
     "output_type": "stream",
     "text": [
      "Warning: Maximum number of iterations has been exceeded.\n",
      "         Current function value: 0.561882\n",
      "         Iterations: 35\n"
     ]
    },
    {
     "name": "stderr",
     "output_type": "stream",
     "text": [
      "/Users/joevorbeck/anaconda3/lib/python3.7/site-packages/statsmodels/base/model.py:508: ConvergenceWarning: Maximum Likelihood optimization failed to converge. Check mle_retvals\n",
      "  \"Check mle_retvals\", ConvergenceWarning)\n"
     ]
    },
    {
     "data": {
      "text/html": [
       "<table class=\"simpletable\">\n",
       "<caption>Logit Regression Results</caption>\n",
       "<tr>\n",
       "  <th>Dep. Variable:</th> <td>mh_issue_supervisor</td> <th>  No. Observations:  </th>  <td>   987</td>  \n",
       "</tr>\n",
       "<tr>\n",
       "  <th>Model:</th>                <td>Logit</td>        <th>  Df Residuals:      </th>  <td>   959</td>  \n",
       "</tr>\n",
       "<tr>\n",
       "  <th>Method:</th>                <td>MLE</td>         <th>  Df Model:          </th>  <td>    27</td>  \n",
       "</tr>\n",
       "<tr>\n",
       "  <th>Date:</th>           <td>Fri, 10 Apr 2020</td>   <th>  Pseudo R-squ.:     </th>  <td>0.09827</td> \n",
       "</tr>\n",
       "<tr>\n",
       "  <th>Time:</th>               <td>17:02:26</td>       <th>  Log-Likelihood:    </th> <td> -554.58</td> \n",
       "</tr>\n",
       "<tr>\n",
       "  <th>converged:</th>            <td>False</td>        <th>  LL-Null:           </th> <td> -615.02</td> \n",
       "</tr>\n",
       "<tr>\n",
       "  <th> </th>                       <td> </td>          <th>  LLR p-value:       </th> <td>7.642e-14</td>\n",
       "</tr>\n",
       "</table>\n",
       "<table class=\"simpletable\">\n",
       "<tr>\n",
       "                                                                 <td></td>                                                                    <th>coef</th>     <th>std err</th>      <th>z</th>      <th>P>|z|</th>  <th>[0.025</th>    <th>0.975]</th>  \n",
       "</tr>\n",
       "<tr>\n",
       "  <th>Have you sought treatment for a mental health condition?_Yes</th>                                                                    <td>   -0.1058</td> <td>    0.164</td> <td>   -0.643</td> <td> 0.520</td> <td>   -0.428</td> <td>    0.217</td>\n",
       "</tr>\n",
       "<tr>\n",
       "  <th>Is your employer primarily a tech company/organization?_Yes</th>                                                                     <td>   -0.0103</td> <td>    0.186</td> <td>   -0.055</td> <td> 0.956</td> <td>   -0.376</td> <td>    0.355</td>\n",
       "</tr>\n",
       "<tr>\n",
       "  <th>Age</th>                                                                                                                             <td>   -0.0682</td> <td>    0.150</td> <td>   -0.454</td> <td> 0.650</td> <td>   -0.363</td> <td>    0.227</td>\n",
       "</tr>\n",
       "<tr>\n",
       "  <th>Gender_Male</th>                                                                                                                     <td>    0.1245</td> <td>    0.169</td> <td>    0.735</td> <td> 0.462</td> <td>   -0.208</td> <td>    0.457</td>\n",
       "</tr>\n",
       "<tr>\n",
       "  <th>Country_United States</th>                                                                                                           <td>    0.0978</td> <td>    0.195</td> <td>    0.501</td> <td> 0.616</td> <td>   -0.285</td> <td>    0.480</td>\n",
       "</tr>\n",
       "<tr>\n",
       "  <th>Country_Mexico</th>                                                                                                                  <td>   17.3794</td> <td> 5558.839</td> <td>    0.003</td> <td> 0.998</td> <td>-1.09e+04</td> <td> 1.09e+04</td>\n",
       "</tr>\n",
       "<tr>\n",
       "  <th>Country_Africa</th>                                                                                                                  <td>   23.4399</td> <td> 7.98e+04</td> <td>    0.000</td> <td> 1.000</td> <td>-1.56e+05</td> <td> 1.56e+05</td>\n",
       "</tr>\n",
       "<tr>\n",
       "  <th>Country_Canada</th>                                                                                                                  <td>    0.2689</td> <td>    0.348</td> <td>    0.772</td> <td> 0.440</td> <td>   -0.414</td> <td>    0.952</td>\n",
       "</tr>\n",
       "<tr>\n",
       "  <th>Country_Oceania</th>                                                                                                                 <td>   -0.2836</td> <td>    0.482</td> <td>   -0.588</td> <td> 0.556</td> <td>   -1.229</td> <td>    0.662</td>\n",
       "</tr>\n",
       "<tr>\n",
       "  <th>Country_Asia</th>                                                                                                                    <td>   -0.7645</td> <td>    0.594</td> <td>   -1.288</td> <td> 0.198</td> <td>   -1.928</td> <td>    0.399</td>\n",
       "</tr>\n",
       "<tr>\n",
       "  <th>Country_South America</th>                                                                                                           <td>    0.7451</td> <td>    0.860</td> <td>    0.867</td> <td> 0.386</td> <td>   -0.940</td> <td>    2.430</td>\n",
       "</tr>\n",
       "<tr>\n",
       "  <th>Country_The Bahamas</th>                                                                                                             <td>   -0.3462</td> <td>    0.816</td> <td>   -0.424</td> <td> 0.671</td> <td>   -1.946</td> <td>    1.253</td>\n",
       "</tr>\n",
       "<tr>\n",
       "  <th>Do you have a family history of mental illness?_Yes</th>                                                                             <td>    0.0241</td> <td>    0.163</td> <td>    0.148</td> <td> 0.882</td> <td>   -0.295</td> <td>    0.343</td>\n",
       "</tr>\n",
       "<tr>\n",
       "  <th>Are you self-employed?_Yes</th>                                                                                                      <td>   -0.0018</td> <td>    0.307</td> <td>   -0.006</td> <td> 0.995</td> <td>   -0.604</td> <td>    0.601</td>\n",
       "</tr>\n",
       "<tr>\n",
       "  <th>Do you work remotely (outside of an office) at least 50% of the time?_Yes</th>                                                       <td>   -0.2038</td> <td>    0.174</td> <td>   -1.169</td> <td> 0.243</td> <td>   -0.546</td> <td>    0.138</td>\n",
       "</tr>\n",
       "<tr>\n",
       "  <th>How many employees does your company or organization have?_100-500</th>                                                              <td>    0.0640</td> <td>    0.322</td> <td>    0.199</td> <td> 0.842</td> <td>   -0.568</td> <td>    0.696</td>\n",
       "</tr>\n",
       "<tr>\n",
       "  <th>How many employees does your company or organization have?_26-100</th>                                                               <td>   -0.2321</td> <td>    0.293</td> <td>   -0.791</td> <td> 0.429</td> <td>   -0.807</td> <td>    0.343</td>\n",
       "</tr>\n",
       "<tr>\n",
       "  <th>How many employees does your company or organization have?_500-1000</th>                                                             <td>   -0.4157</td> <td>    0.405</td> <td>   -1.027</td> <td> 0.304</td> <td>   -1.209</td> <td>    0.378</td>\n",
       "</tr>\n",
       "<tr>\n",
       "  <th>How many employees does your company or organization have?_6-25</th>                                                                 <td>    0.0424</td> <td>    0.282</td> <td>    0.150</td> <td> 0.881</td> <td>   -0.511</td> <td>    0.595</td>\n",
       "</tr>\n",
       "<tr>\n",
       "  <th>How many employees does your company or organization have?_More than 1000</th>                                                       <td>   -0.5755</td> <td>    0.306</td> <td>   -1.884</td> <td> 0.060</td> <td>   -1.174</td> <td>    0.023</td>\n",
       "</tr>\n",
       "<tr>\n",
       "  <th>Does your employer provide mental health benefits?_Don't know</th>                                                                   <td>    0.0868</td> <td>    0.211</td> <td>    0.411</td> <td> 0.681</td> <td>   -0.327</td> <td>    0.500</td>\n",
       "</tr>\n",
       "<tr>\n",
       "  <th>Does your employer provide mental health benefits?_Yes</th>                                                                          <td>    0.3088</td> <td>    0.242</td> <td>    1.277</td> <td> 0.202</td> <td>   -0.165</td> <td>    0.783</td>\n",
       "</tr>\n",
       "<tr>\n",
       "  <th>Is your anonymity protected if you choose to take advantage of mental health or substance abuse treatment resources?_Don't know</th> <td>    0.4471</td> <td>    0.289</td> <td>    1.545</td> <td> 0.122</td> <td>   -0.120</td> <td>    1.014</td>\n",
       "</tr>\n",
       "<tr>\n",
       "  <th>Is your anonymity protected if you choose to take advantage of mental health or substance abuse treatment resources?_Yes</th>        <td>    0.7780</td> <td>    0.317</td> <td>    2.454</td> <td> 0.014</td> <td>    0.157</td> <td>    1.399</td>\n",
       "</tr>\n",
       "<tr>\n",
       "  <th>How easy is it for you to take medical leave for a mental health condition?_Somewhat difficult</th>                                  <td>   -0.1445</td> <td>    0.251</td> <td>   -0.575</td> <td> 0.565</td> <td>   -0.637</td> <td>    0.348</td>\n",
       "</tr>\n",
       "<tr>\n",
       "  <th>How easy is it for you to take medical leave for a mental health condition?_Somewhat easy</th>                                       <td>    0.9742</td> <td>    0.214</td> <td>    4.548</td> <td> 0.000</td> <td>    0.554</td> <td>    1.394</td>\n",
       "</tr>\n",
       "<tr>\n",
       "  <th>How easy is it for you to take medical leave for a mental health condition?_Very difficult</th>                                      <td>   -0.5231</td> <td>    0.273</td> <td>   -1.913</td> <td> 0.056</td> <td>   -1.059</td> <td>    0.013</td>\n",
       "</tr>\n",
       "<tr>\n",
       "  <th>How easy is it for you to take medical leave for a mental health condition?_Very easy</th>                                           <td>    1.5232</td> <td>    0.280</td> <td>    5.438</td> <td> 0.000</td> <td>    0.974</td> <td>    2.072</td>\n",
       "</tr>\n",
       "</table>"
      ],
      "text/plain": [
       "<class 'statsmodels.iolib.summary.Summary'>\n",
       "\"\"\"\n",
       "                            Logit Regression Results                           \n",
       "===============================================================================\n",
       "Dep. Variable:     mh_issue_supervisor   No. Observations:                  987\n",
       "Model:                           Logit   Df Residuals:                      959\n",
       "Method:                            MLE   Df Model:                           27\n",
       "Date:                 Fri, 10 Apr 2020   Pseudo R-squ.:                 0.09827\n",
       "Time:                         17:02:26   Log-Likelihood:                -554.58\n",
       "converged:                       False   LL-Null:                       -615.02\n",
       "                                         LLR p-value:                 7.642e-14\n",
       "===================================================================================================================================================================================================\n",
       "                                                                                                                                      coef    std err          z      P>|z|      [0.025      0.975]\n",
       "---------------------------------------------------------------------------------------------------------------------------------------------------------------------------------------------------\n",
       "Have you sought treatment for a mental health condition?_Yes                                                                       -0.1058      0.164     -0.643      0.520      -0.428       0.217\n",
       "Is your employer primarily a tech company/organization?_Yes                                                                        -0.0103      0.186     -0.055      0.956      -0.376       0.355\n",
       "Age                                                                                                                                -0.0682      0.150     -0.454      0.650      -0.363       0.227\n",
       "Gender_Male                                                                                                                         0.1245      0.169      0.735      0.462      -0.208       0.457\n",
       "Country_United States                                                                                                               0.0978      0.195      0.501      0.616      -0.285       0.480\n",
       "Country_Mexico                                                                                                                     17.3794   5558.839      0.003      0.998   -1.09e+04    1.09e+04\n",
       "Country_Africa                                                                                                                     23.4399   7.98e+04      0.000      1.000   -1.56e+05    1.56e+05\n",
       "Country_Canada                                                                                                                      0.2689      0.348      0.772      0.440      -0.414       0.952\n",
       "Country_Oceania                                                                                                                    -0.2836      0.482     -0.588      0.556      -1.229       0.662\n",
       "Country_Asia                                                                                                                       -0.7645      0.594     -1.288      0.198      -1.928       0.399\n",
       "Country_South America                                                                                                               0.7451      0.860      0.867      0.386      -0.940       2.430\n",
       "Country_The Bahamas                                                                                                                -0.3462      0.816     -0.424      0.671      -1.946       1.253\n",
       "Do you have a family history of mental illness?_Yes                                                                                 0.0241      0.163      0.148      0.882      -0.295       0.343\n",
       "Are you self-employed?_Yes                                                                                                         -0.0018      0.307     -0.006      0.995      -0.604       0.601\n",
       "Do you work remotely (outside of an office) at least 50% of the time?_Yes                                                          -0.2038      0.174     -1.169      0.243      -0.546       0.138\n",
       "How many employees does your company or organization have?_100-500                                                                  0.0640      0.322      0.199      0.842      -0.568       0.696\n",
       "How many employees does your company or organization have?_26-100                                                                  -0.2321      0.293     -0.791      0.429      -0.807       0.343\n",
       "How many employees does your company or organization have?_500-1000                                                                -0.4157      0.405     -1.027      0.304      -1.209       0.378\n",
       "How many employees does your company or organization have?_6-25                                                                     0.0424      0.282      0.150      0.881      -0.511       0.595\n",
       "How many employees does your company or organization have?_More than 1000                                                          -0.5755      0.306     -1.884      0.060      -1.174       0.023\n",
       "Does your employer provide mental health benefits?_Don't know                                                                       0.0868      0.211      0.411      0.681      -0.327       0.500\n",
       "Does your employer provide mental health benefits?_Yes                                                                              0.3088      0.242      1.277      0.202      -0.165       0.783\n",
       "Is your anonymity protected if you choose to take advantage of mental health or substance abuse treatment resources?_Don't know     0.4471      0.289      1.545      0.122      -0.120       1.014\n",
       "Is your anonymity protected if you choose to take advantage of mental health or substance abuse treatment resources?_Yes            0.7780      0.317      2.454      0.014       0.157       1.399\n",
       "How easy is it for you to take medical leave for a mental health condition?_Somewhat difficult                                     -0.1445      0.251     -0.575      0.565      -0.637       0.348\n",
       "How easy is it for you to take medical leave for a mental health condition?_Somewhat easy                                           0.9742      0.214      4.548      0.000       0.554       1.394\n",
       "How easy is it for you to take medical leave for a mental health condition?_Very difficult                                         -0.5231      0.273     -1.913      0.056      -1.059       0.013\n",
       "How easy is it for you to take medical leave for a mental health condition?_Very easy                                               1.5232      0.280      5.438      0.000       0.974       2.072\n",
       "===================================================================================================================================================================================================\n",
       "\"\"\""
      ]
     },
     "execution_count": 838,
     "metadata": {},
     "output_type": "execute_result"
    }
   ],
   "source": [
    "logit_sup_4 = sm.Logit(y_supervisor, x_main_demog_work_employer).fit()\n",
    "logit_sup_4.summary()"
   ]
  },
  {
   "cell_type": "code",
   "execution_count": 839,
   "metadata": {},
   "outputs": [
    {
     "data": {
      "text/plain": [
       "1165.1552887346725"
      ]
     },
     "execution_count": 839,
     "metadata": {},
     "output_type": "execute_result"
    }
   ],
   "source": [
    "logit_sup_4.aic"
   ]
  },
  {
   "cell_type": "code",
   "execution_count": 840,
   "metadata": {},
   "outputs": [],
   "source": [
    "                                    ### Second Dependent Variable ###\n",
    "                            ### First Logit Model Using Main Indepdent Variable ### "
   ]
  },
  {
   "cell_type": "code",
   "execution_count": 841,
   "metadata": {},
   "outputs": [
    {
     "name": "stdout",
     "output_type": "stream",
     "text": [
      "Optimization terminated successfully.\n",
      "         Current function value: 0.681337\n",
      "         Iterations 4\n"
     ]
    },
    {
     "data": {
      "text/html": [
       "<table class=\"simpletable\">\n",
       "<caption>Logit Regression Results</caption>\n",
       "<tr>\n",
       "  <th>Dep. Variable:</th> <td>mh_issue_neg_consq</td> <th>  No. Observations:  </th>  <td>   987</td> \n",
       "</tr>\n",
       "<tr>\n",
       "  <th>Model:</th>                <td>Logit</td>       <th>  Df Residuals:      </th>  <td>   986</td> \n",
       "</tr>\n",
       "<tr>\n",
       "  <th>Method:</th>                <td>MLE</td>        <th>  Df Model:          </th>  <td>     0</td> \n",
       "</tr>\n",
       "<tr>\n",
       "  <th>Date:</th>           <td>Fri, 10 Apr 2020</td>  <th>  Pseudo R-squ.:     </th> <td>-0.01878</td>\n",
       "</tr>\n",
       "<tr>\n",
       "  <th>Time:</th>               <td>17:02:26</td>      <th>  Log-Likelihood:    </th> <td> -672.48</td>\n",
       "</tr>\n",
       "<tr>\n",
       "  <th>converged:</th>            <td>True</td>        <th>  LL-Null:           </th> <td> -660.09</td>\n",
       "</tr>\n",
       "<tr>\n",
       "  <th> </th>                       <td> </td>         <th>  LLR p-value:       </th>  <td>   nan</td> \n",
       "</tr>\n",
       "</table>\n",
       "<table class=\"simpletable\">\n",
       "<tr>\n",
       "                               <td></td>                                  <th>coef</th>     <th>std err</th>      <th>z</th>      <th>P>|z|</th>  <th>[0.025</th>    <th>0.975]</th>  \n",
       "</tr>\n",
       "<tr>\n",
       "  <th>Is your employer primarily a tech company/organization?_Yes</th> <td>    0.3420</td> <td>    0.071</td> <td>    4.793</td> <td> 0.000</td> <td>    0.202</td> <td>    0.482</td>\n",
       "</tr>\n",
       "</table>"
      ],
      "text/plain": [
       "<class 'statsmodels.iolib.summary.Summary'>\n",
       "\"\"\"\n",
       "                           Logit Regression Results                           \n",
       "==============================================================================\n",
       "Dep. Variable:     mh_issue_neg_consq   No. Observations:                  987\n",
       "Model:                          Logit   Df Residuals:                      986\n",
       "Method:                           MLE   Df Model:                            0\n",
       "Date:                Fri, 10 Apr 2020   Pseudo R-squ.:                -0.01878\n",
       "Time:                        17:02:26   Log-Likelihood:                -672.48\n",
       "converged:                       True   LL-Null:                       -660.09\n",
       "                                        LLR p-value:                       nan\n",
       "===============================================================================================================================\n",
       "                                                                  coef    std err          z      P>|z|      [0.025      0.975]\n",
       "-------------------------------------------------------------------------------------------------------------------------------\n",
       "Is your employer primarily a tech company/organization?_Yes     0.3420      0.071      4.793      0.000       0.202       0.482\n",
       "===============================================================================================================================\n",
       "\"\"\""
      ]
     },
     "execution_count": 841,
     "metadata": {},
     "output_type": "execute_result"
    }
   ],
   "source": [
    "logit_consq = sm.Logit(y_consq, x_main).fit()\n",
    "logit_consq.summary()"
   ]
  },
  {
   "cell_type": "code",
   "execution_count": 842,
   "metadata": {},
   "outputs": [
    {
     "data": {
      "text/plain": [
       "1346.9601070713381"
      ]
     },
     "execution_count": 842,
     "metadata": {},
     "output_type": "execute_result"
    }
   ],
   "source": [
    "logit_consq.aic"
   ]
  },
  {
   "cell_type": "code",
   "execution_count": 843,
   "metadata": {},
   "outputs": [],
   "source": [
    "                    ### Second Logit Model Adding in Demographic Level Variables ###"
   ]
  },
  {
   "cell_type": "code",
   "execution_count": 844,
   "metadata": {},
   "outputs": [
    {
     "name": "stdout",
     "output_type": "stream",
     "text": [
      "Warning: Maximum number of iterations has been exceeded.\n",
      "         Current function value: 0.653017\n",
      "         Iterations: 35\n"
     ]
    },
    {
     "name": "stderr",
     "output_type": "stream",
     "text": [
      "/Users/joevorbeck/anaconda3/lib/python3.7/site-packages/statsmodels/base/model.py:508: ConvergenceWarning: Maximum Likelihood optimization failed to converge. Check mle_retvals\n",
      "  \"Check mle_retvals\", ConvergenceWarning)\n"
     ]
    },
    {
     "data": {
      "text/html": [
       "<table class=\"simpletable\">\n",
       "<caption>Logit Regression Results</caption>\n",
       "<tr>\n",
       "  <th>Dep. Variable:</th> <td>mh_issue_neg_consq</td> <th>  No. Observations:  </th>  <td>   987</td> \n",
       "</tr>\n",
       "<tr>\n",
       "  <th>Model:</th>                <td>Logit</td>       <th>  Df Residuals:      </th>  <td>   974</td> \n",
       "</tr>\n",
       "<tr>\n",
       "  <th>Method:</th>                <td>MLE</td>        <th>  Df Model:          </th>  <td>    12</td> \n",
       "</tr>\n",
       "<tr>\n",
       "  <th>Date:</th>           <td>Fri, 10 Apr 2020</td>  <th>  Pseudo R-squ.:     </th>  <td>0.02357</td>\n",
       "</tr>\n",
       "<tr>\n",
       "  <th>Time:</th>               <td>17:02:26</td>      <th>  Log-Likelihood:    </th> <td> -644.53</td>\n",
       "</tr>\n",
       "<tr>\n",
       "  <th>converged:</th>            <td>False</td>       <th>  LL-Null:           </th> <td> -660.09</td>\n",
       "</tr>\n",
       "<tr>\n",
       "  <th> </th>                       <td> </td>         <th>  LLR p-value:       </th> <td>0.001891</td>\n",
       "</tr>\n",
       "</table>\n",
       "<table class=\"simpletable\">\n",
       "<tr>\n",
       "                                <td></td>                                  <th>coef</th>     <th>std err</th>      <th>z</th>      <th>P>|z|</th>  <th>[0.025</th>    <th>0.975]</th>  \n",
       "</tr>\n",
       "<tr>\n",
       "  <th>Have you sought treatment for a mental health condition?_Yes</th> <td>    0.4678</td> <td>    0.139</td> <td>    3.364</td> <td> 0.001</td> <td>    0.195</td> <td>    0.740</td>\n",
       "</tr>\n",
       "<tr>\n",
       "  <th>Is your employer primarily a tech company/organization?_Yes</th>  <td>   -0.1768</td> <td>    0.150</td> <td>   -1.182</td> <td> 0.237</td> <td>   -0.470</td> <td>    0.116</td>\n",
       "</tr>\n",
       "<tr>\n",
       "  <th>Age</th>                                                          <td>   -0.0584</td> <td>    0.128</td> <td>   -0.456</td> <td> 0.648</td> <td>   -0.310</td> <td>    0.193</td>\n",
       "</tr>\n",
       "<tr>\n",
       "  <th>Gender_Male</th>                                                  <td>   -0.0449</td> <td>    0.135</td> <td>   -0.334</td> <td> 0.739</td> <td>   -0.309</td> <td>    0.219</td>\n",
       "</tr>\n",
       "<tr>\n",
       "  <th>Country_United States</th>                                        <td>    0.2580</td> <td>    0.140</td> <td>    1.848</td> <td> 0.065</td> <td>   -0.016</td> <td>    0.532</td>\n",
       "</tr>\n",
       "<tr>\n",
       "  <th>Country_Mexico</th>                                               <td>  -17.0044</td> <td> 5503.047</td> <td>   -0.003</td> <td> 0.998</td> <td>-1.08e+04</td> <td> 1.08e+04</td>\n",
       "</tr>\n",
       "<tr>\n",
       "  <th>Country_Africa</th>                                               <td>   -0.7999</td> <td>    0.947</td> <td>   -0.844</td> <td> 0.399</td> <td>   -2.657</td> <td>    1.057</td>\n",
       "</tr>\n",
       "<tr>\n",
       "  <th>Country_Canada</th>                                               <td>    0.0733</td> <td>    0.294</td> <td>    0.249</td> <td> 0.803</td> <td>   -0.503</td> <td>    0.650</td>\n",
       "</tr>\n",
       "<tr>\n",
       "  <th>Country_Oceania</th>                                              <td>    0.2242</td> <td>    0.432</td> <td>    0.520</td> <td> 0.603</td> <td>   -0.621</td> <td>    1.070</td>\n",
       "</tr>\n",
       "<tr>\n",
       "  <th>Country_Asia</th>                                                 <td>    1.5189</td> <td>    0.660</td> <td>    2.301</td> <td> 0.021</td> <td>    0.225</td> <td>    2.813</td>\n",
       "</tr>\n",
       "<tr>\n",
       "  <th>Country_South America</th>                                        <td>   -0.1549</td> <td>    0.693</td> <td>   -0.224</td> <td> 0.823</td> <td>   -1.513</td> <td>    1.203</td>\n",
       "</tr>\n",
       "<tr>\n",
       "  <th>Country_The Bahamas</th>                                          <td>    1.1987</td> <td>    0.832</td> <td>    1.440</td> <td> 0.150</td> <td>   -0.432</td> <td>    2.830</td>\n",
       "</tr>\n",
       "<tr>\n",
       "  <th>Do you have a family history of mental illness?_Yes</th>          <td>    0.4161</td> <td>    0.146</td> <td>    2.841</td> <td> 0.004</td> <td>    0.129</td> <td>    0.703</td>\n",
       "</tr>\n",
       "</table>"
      ],
      "text/plain": [
       "<class 'statsmodels.iolib.summary.Summary'>\n",
       "\"\"\"\n",
       "                           Logit Regression Results                           \n",
       "==============================================================================\n",
       "Dep. Variable:     mh_issue_neg_consq   No. Observations:                  987\n",
       "Model:                          Logit   Df Residuals:                      974\n",
       "Method:                           MLE   Df Model:                           12\n",
       "Date:                Fri, 10 Apr 2020   Pseudo R-squ.:                 0.02357\n",
       "Time:                        17:02:26   Log-Likelihood:                -644.53\n",
       "converged:                      False   LL-Null:                       -660.09\n",
       "                                        LLR p-value:                  0.001891\n",
       "================================================================================================================================\n",
       "                                                                   coef    std err          z      P>|z|      [0.025      0.975]\n",
       "--------------------------------------------------------------------------------------------------------------------------------\n",
       "Have you sought treatment for a mental health condition?_Yes     0.4678      0.139      3.364      0.001       0.195       0.740\n",
       "Is your employer primarily a tech company/organization?_Yes     -0.1768      0.150     -1.182      0.237      -0.470       0.116\n",
       "Age                                                             -0.0584      0.128     -0.456      0.648      -0.310       0.193\n",
       "Gender_Male                                                     -0.0449      0.135     -0.334      0.739      -0.309       0.219\n",
       "Country_United States                                            0.2580      0.140      1.848      0.065      -0.016       0.532\n",
       "Country_Mexico                                                 -17.0044   5503.047     -0.003      0.998   -1.08e+04    1.08e+04\n",
       "Country_Africa                                                  -0.7999      0.947     -0.844      0.399      -2.657       1.057\n",
       "Country_Canada                                                   0.0733      0.294      0.249      0.803      -0.503       0.650\n",
       "Country_Oceania                                                  0.2242      0.432      0.520      0.603      -0.621       1.070\n",
       "Country_Asia                                                     1.5189      0.660      2.301      0.021       0.225       2.813\n",
       "Country_South America                                           -0.1549      0.693     -0.224      0.823      -1.513       1.203\n",
       "Country_The Bahamas                                              1.1987      0.832      1.440      0.150      -0.432       2.830\n",
       "Do you have a family history of mental illness?_Yes              0.4161      0.146      2.841      0.004       0.129       0.703\n",
       "================================================================================================================================\n",
       "\"\"\""
      ]
     },
     "execution_count": 844,
     "metadata": {},
     "output_type": "execute_result"
    }
   ],
   "source": [
    "logit_consq_2 = sm.Logit(y_consq, x_main_demog).fit()\n",
    "logit_consq_2.summary()"
   ]
  },
  {
   "cell_type": "code",
   "execution_count": 845,
   "metadata": {},
   "outputs": [
    {
     "data": {
      "text/plain": [
       "1315.0552125890777"
      ]
     },
     "execution_count": 845,
     "metadata": {},
     "output_type": "execute_result"
    }
   ],
   "source": [
    "logit_consq_2.aic"
   ]
  },
  {
   "cell_type": "code",
   "execution_count": 846,
   "metadata": {},
   "outputs": [],
   "source": [
    "                        ### Third Logit Model Adding in Work Level Variables ###"
   ]
  },
  {
   "cell_type": "code",
   "execution_count": 847,
   "metadata": {},
   "outputs": [
    {
     "name": "stdout",
     "output_type": "stream",
     "text": [
      "Warning: Maximum number of iterations has been exceeded.\n",
      "         Current function value: 0.652260\n",
      "         Iterations: 35\n"
     ]
    },
    {
     "name": "stderr",
     "output_type": "stream",
     "text": [
      "/Users/joevorbeck/anaconda3/lib/python3.7/site-packages/statsmodels/base/model.py:508: ConvergenceWarning: Maximum Likelihood optimization failed to converge. Check mle_retvals\n",
      "  \"Check mle_retvals\", ConvergenceWarning)\n"
     ]
    },
    {
     "data": {
      "text/html": [
       "<table class=\"simpletable\">\n",
       "<caption>Logit Regression Results</caption>\n",
       "<tr>\n",
       "  <th>Dep. Variable:</th> <td>mh_issue_neg_consq</td> <th>  No. Observations:  </th>  <td>   987</td> \n",
       "</tr>\n",
       "<tr>\n",
       "  <th>Model:</th>                <td>Logit</td>       <th>  Df Residuals:      </th>  <td>   972</td> \n",
       "</tr>\n",
       "<tr>\n",
       "  <th>Method:</th>                <td>MLE</td>        <th>  Df Model:          </th>  <td>    14</td> \n",
       "</tr>\n",
       "<tr>\n",
       "  <th>Date:</th>           <td>Fri, 10 Apr 2020</td>  <th>  Pseudo R-squ.:     </th>  <td>0.02470</td>\n",
       "</tr>\n",
       "<tr>\n",
       "  <th>Time:</th>               <td>17:02:26</td>      <th>  Log-Likelihood:    </th> <td> -643.78</td>\n",
       "</tr>\n",
       "<tr>\n",
       "  <th>converged:</th>            <td>False</td>       <th>  LL-Null:           </th> <td> -660.09</td>\n",
       "</tr>\n",
       "<tr>\n",
       "  <th> </th>                       <td> </td>         <th>  LLR p-value:       </th> <td>0.003278</td>\n",
       "</tr>\n",
       "</table>\n",
       "<table class=\"simpletable\">\n",
       "<tr>\n",
       "                                      <td></td>                                         <th>coef</th>     <th>std err</th>      <th>z</th>      <th>P>|z|</th>  <th>[0.025</th>    <th>0.975]</th>  \n",
       "</tr>\n",
       "<tr>\n",
       "  <th>Have you sought treatment for a mental health condition?_Yes</th>              <td>    0.4744</td> <td>    0.139</td> <td>    3.403</td> <td> 0.001</td> <td>    0.201</td> <td>    0.748</td>\n",
       "</tr>\n",
       "<tr>\n",
       "  <th>Is your employer primarily a tech company/organization?_Yes</th>               <td>   -0.1571</td> <td>    0.154</td> <td>   -1.022</td> <td> 0.307</td> <td>   -0.458</td> <td>    0.144</td>\n",
       "</tr>\n",
       "<tr>\n",
       "  <th>Age</th>                                                                       <td>   -0.0642</td> <td>    0.129</td> <td>   -0.497</td> <td> 0.619</td> <td>   -0.317</td> <td>    0.189</td>\n",
       "</tr>\n",
       "<tr>\n",
       "  <th>Gender_Male</th>                                                               <td>   -0.0330</td> <td>    0.135</td> <td>   -0.244</td> <td> 0.807</td> <td>   -0.298</td> <td>    0.232</td>\n",
       "</tr>\n",
       "<tr>\n",
       "  <th>Country_United States</th>                                                     <td>    0.2254</td> <td>    0.143</td> <td>    1.573</td> <td> 0.116</td> <td>   -0.055</td> <td>    0.506</td>\n",
       "</tr>\n",
       "<tr>\n",
       "  <th>Country_Mexico</th>                                                            <td>  -16.8076</td> <td> 5487.413</td> <td>   -0.003</td> <td> 0.998</td> <td>-1.08e+04</td> <td> 1.07e+04</td>\n",
       "</tr>\n",
       "<tr>\n",
       "  <th>Country_Africa</th>                                                            <td>   -0.7906</td> <td>    0.945</td> <td>   -0.837</td> <td> 0.403</td> <td>   -2.642</td> <td>    1.061</td>\n",
       "</tr>\n",
       "<tr>\n",
       "  <th>Country_Canada</th>                                                            <td>    0.0663</td> <td>    0.295</td> <td>    0.225</td> <td> 0.822</td> <td>   -0.512</td> <td>    0.644</td>\n",
       "</tr>\n",
       "<tr>\n",
       "  <th>Country_Oceania</th>                                                           <td>    0.1939</td> <td>    0.434</td> <td>    0.447</td> <td> 0.655</td> <td>   -0.656</td> <td>    1.044</td>\n",
       "</tr>\n",
       "<tr>\n",
       "  <th>Country_Asia</th>                                                              <td>    1.5492</td> <td>    0.662</td> <td>    2.342</td> <td> 0.019</td> <td>    0.253</td> <td>    2.846</td>\n",
       "</tr>\n",
       "<tr>\n",
       "  <th>Country_South America</th>                                                     <td>   -0.1429</td> <td>    0.693</td> <td>   -0.206</td> <td> 0.837</td> <td>   -1.502</td> <td>    1.216</td>\n",
       "</tr>\n",
       "<tr>\n",
       "  <th>Country_The Bahamas</th>                                                       <td>    1.1663</td> <td>    0.833</td> <td>    1.400</td> <td> 0.161</td> <td>   -0.466</td> <td>    2.799</td>\n",
       "</tr>\n",
       "<tr>\n",
       "  <th>Do you have a family history of mental illness?_Yes</th>                       <td>    0.4242</td> <td>    0.147</td> <td>    2.890</td> <td> 0.004</td> <td>    0.136</td> <td>    0.712</td>\n",
       "</tr>\n",
       "<tr>\n",
       "  <th>Are you self-employed?_Yes</th>                                                <td>   -0.2879</td> <td>    0.236</td> <td>   -1.222</td> <td> 0.222</td> <td>   -0.750</td> <td>    0.174</td>\n",
       "</tr>\n",
       "<tr>\n",
       "  <th>Do you work remotely (outside of an office) at least 50% of the time?_Yes</th> <td>    0.0651</td> <td>    0.155</td> <td>    0.418</td> <td> 0.676</td> <td>   -0.240</td> <td>    0.370</td>\n",
       "</tr>\n",
       "</table>"
      ],
      "text/plain": [
       "<class 'statsmodels.iolib.summary.Summary'>\n",
       "\"\"\"\n",
       "                           Logit Regression Results                           \n",
       "==============================================================================\n",
       "Dep. Variable:     mh_issue_neg_consq   No. Observations:                  987\n",
       "Model:                          Logit   Df Residuals:                      972\n",
       "Method:                           MLE   Df Model:                           14\n",
       "Date:                Fri, 10 Apr 2020   Pseudo R-squ.:                 0.02470\n",
       "Time:                        17:02:26   Log-Likelihood:                -643.78\n",
       "converged:                      False   LL-Null:                       -660.09\n",
       "                                        LLR p-value:                  0.003278\n",
       "=============================================================================================================================================\n",
       "                                                                                coef    std err          z      P>|z|      [0.025      0.975]\n",
       "---------------------------------------------------------------------------------------------------------------------------------------------\n",
       "Have you sought treatment for a mental health condition?_Yes                  0.4744      0.139      3.403      0.001       0.201       0.748\n",
       "Is your employer primarily a tech company/organization?_Yes                  -0.1571      0.154     -1.022      0.307      -0.458       0.144\n",
       "Age                                                                          -0.0642      0.129     -0.497      0.619      -0.317       0.189\n",
       "Gender_Male                                                                  -0.0330      0.135     -0.244      0.807      -0.298       0.232\n",
       "Country_United States                                                         0.2254      0.143      1.573      0.116      -0.055       0.506\n",
       "Country_Mexico                                                              -16.8076   5487.413     -0.003      0.998   -1.08e+04    1.07e+04\n",
       "Country_Africa                                                               -0.7906      0.945     -0.837      0.403      -2.642       1.061\n",
       "Country_Canada                                                                0.0663      0.295      0.225      0.822      -0.512       0.644\n",
       "Country_Oceania                                                               0.1939      0.434      0.447      0.655      -0.656       1.044\n",
       "Country_Asia                                                                  1.5492      0.662      2.342      0.019       0.253       2.846\n",
       "Country_South America                                                        -0.1429      0.693     -0.206      0.837      -1.502       1.216\n",
       "Country_The Bahamas                                                           1.1663      0.833      1.400      0.161      -0.466       2.799\n",
       "Do you have a family history of mental illness?_Yes                           0.4242      0.147      2.890      0.004       0.136       0.712\n",
       "Are you self-employed?_Yes                                                   -0.2879      0.236     -1.222      0.222      -0.750       0.174\n",
       "Do you work remotely (outside of an office) at least 50% of the time?_Yes     0.0651      0.155      0.418      0.676      -0.240       0.370\n",
       "=============================================================================================================================================\n",
       "\"\"\""
      ]
     },
     "execution_count": 847,
     "metadata": {},
     "output_type": "execute_result"
    }
   ],
   "source": [
    "logit_consq_3 = sm.Logit(y_consq, x_main_demog_work).fit()\n",
    "logit_consq_3.summary()"
   ]
  },
  {
   "cell_type": "code",
   "execution_count": 848,
   "metadata": {},
   "outputs": [
    {
     "data": {
      "text/plain": [
       "1317.560894474907"
      ]
     },
     "execution_count": 848,
     "metadata": {},
     "output_type": "execute_result"
    }
   ],
   "source": [
    "logit_consq_3.aic"
   ]
  },
  {
   "cell_type": "code",
   "execution_count": 849,
   "metadata": {},
   "outputs": [],
   "source": [
    "                  ### Fourth Logit Model Adding in Employer Level Variables ###"
   ]
  },
  {
   "cell_type": "code",
   "execution_count": 850,
   "metadata": {},
   "outputs": [
    {
     "name": "stdout",
     "output_type": "stream",
     "text": [
      "Warning: Maximum number of iterations has been exceeded.\n",
      "         Current function value: 0.580153\n",
      "         Iterations: 35\n"
     ]
    },
    {
     "name": "stderr",
     "output_type": "stream",
     "text": [
      "/Users/joevorbeck/anaconda3/lib/python3.7/site-packages/statsmodels/base/model.py:508: ConvergenceWarning: Maximum Likelihood optimization failed to converge. Check mle_retvals\n",
      "  \"Check mle_retvals\", ConvergenceWarning)\n"
     ]
    },
    {
     "data": {
      "text/html": [
       "<table class=\"simpletable\">\n",
       "<caption>Logit Regression Results</caption>\n",
       "<tr>\n",
       "  <th>Dep. Variable:</th> <td>mh_issue_neg_consq</td> <th>  No. Observations:  </th>  <td>   987</td>  \n",
       "</tr>\n",
       "<tr>\n",
       "  <th>Model:</th>                <td>Logit</td>       <th>  Df Residuals:      </th>  <td>   959</td>  \n",
       "</tr>\n",
       "<tr>\n",
       "  <th>Method:</th>                <td>MLE</td>        <th>  Df Model:          </th>  <td>    27</td>  \n",
       "</tr>\n",
       "<tr>\n",
       "  <th>Date:</th>           <td>Fri, 10 Apr 2020</td>  <th>  Pseudo R-squ.:     </th>  <td>0.1325</td>  \n",
       "</tr>\n",
       "<tr>\n",
       "  <th>Time:</th>               <td>17:02:26</td>      <th>  Log-Likelihood:    </th> <td> -572.61</td> \n",
       "</tr>\n",
       "<tr>\n",
       "  <th>converged:</th>            <td>False</td>       <th>  LL-Null:           </th> <td> -660.09</td> \n",
       "</tr>\n",
       "<tr>\n",
       "  <th> </th>                       <td> </td>         <th>  LLR p-value:       </th> <td>1.308e-23</td>\n",
       "</tr>\n",
       "</table>\n",
       "<table class=\"simpletable\">\n",
       "<tr>\n",
       "                                                                 <td></td>                                                                    <th>coef</th>     <th>std err</th>      <th>z</th>      <th>P>|z|</th>  <th>[0.025</th>    <th>0.975]</th>  \n",
       "</tr>\n",
       "<tr>\n",
       "  <th>Have you sought treatment for a mental health condition?_Yes</th>                                                                    <td>    0.4669</td> <td>    0.160</td> <td>    2.916</td> <td> 0.004</td> <td>    0.153</td> <td>    0.781</td>\n",
       "</tr>\n",
       "<tr>\n",
       "  <th>Is your employer primarily a tech company/organization?_Yes</th>                                                                     <td>   -0.2500</td> <td>    0.191</td> <td>   -1.309</td> <td> 0.190</td> <td>   -0.624</td> <td>    0.124</td>\n",
       "</tr>\n",
       "<tr>\n",
       "  <th>Age</th>                                                                                                                             <td>   -0.1079</td> <td>    0.147</td> <td>   -0.732</td> <td> 0.464</td> <td>   -0.397</td> <td>    0.181</td>\n",
       "</tr>\n",
       "<tr>\n",
       "  <th>Gender_Male</th>                                                                                                                     <td>   -0.1519</td> <td>    0.171</td> <td>   -0.887</td> <td> 0.375</td> <td>   -0.487</td> <td>    0.184</td>\n",
       "</tr>\n",
       "<tr>\n",
       "  <th>Country_United States</th>                                                                                                           <td>   -0.0992</td> <td>    0.190</td> <td>   -0.522</td> <td> 0.602</td> <td>   -0.472</td> <td>    0.274</td>\n",
       "</tr>\n",
       "<tr>\n",
       "  <th>Country_Mexico</th>                                                                                                                  <td>  -18.1806</td> <td> 5614.605</td> <td>   -0.003</td> <td> 0.997</td> <td> -1.1e+04</td> <td>  1.1e+04</td>\n",
       "</tr>\n",
       "<tr>\n",
       "  <th>Country_Africa</th>                                                                                                                  <td>   -0.8757</td> <td>    0.955</td> <td>   -0.917</td> <td> 0.359</td> <td>   -2.747</td> <td>    0.995</td>\n",
       "</tr>\n",
       "<tr>\n",
       "  <th>Country_Canada</th>                                                                                                                  <td>   -0.2585</td> <td>    0.334</td> <td>   -0.773</td> <td> 0.439</td> <td>   -0.914</td> <td>    0.397</td>\n",
       "</tr>\n",
       "<tr>\n",
       "  <th>Country_Oceania</th>                                                                                                                 <td>   -0.0460</td> <td>    0.488</td> <td>   -0.094</td> <td> 0.925</td> <td>   -1.002</td> <td>    0.910</td>\n",
       "</tr>\n",
       "<tr>\n",
       "  <th>Country_Asia</th>                                                                                                                    <td>    1.4430</td> <td>    0.737</td> <td>    1.959</td> <td> 0.050</td> <td>   -0.001</td> <td>    2.887</td>\n",
       "</tr>\n",
       "<tr>\n",
       "  <th>Country_South America</th>                                                                                                           <td>   -0.5488</td> <td>    0.726</td> <td>   -0.756</td> <td> 0.449</td> <td>   -1.971</td> <td>    0.873</td>\n",
       "</tr>\n",
       "<tr>\n",
       "  <th>Country_The Bahamas</th>                                                                                                             <td>    1.2782</td> <td>    0.957</td> <td>    1.335</td> <td> 0.182</td> <td>   -0.598</td> <td>    3.154</td>\n",
       "</tr>\n",
       "<tr>\n",
       "  <th>Do you have a family history of mental illness?_Yes</th>                                                                             <td>    0.4050</td> <td>    0.160</td> <td>    2.523</td> <td> 0.012</td> <td>    0.090</td> <td>    0.720</td>\n",
       "</tr>\n",
       "<tr>\n",
       "  <th>Are you self-employed?_Yes</th>                                                                                                      <td>    0.1281</td> <td>    0.298</td> <td>    0.430</td> <td> 0.667</td> <td>   -0.456</td> <td>    0.712</td>\n",
       "</tr>\n",
       "<tr>\n",
       "  <th>Do you work remotely (outside of an office) at least 50% of the time?_Yes</th>                                                       <td>    0.1296</td> <td>    0.172</td> <td>    0.755</td> <td> 0.450</td> <td>   -0.207</td> <td>    0.466</td>\n",
       "</tr>\n",
       "<tr>\n",
       "  <th>How many employees does your company or organization have?_100-500</th>                                                              <td>    0.7502</td> <td>    0.313</td> <td>    2.393</td> <td> 0.017</td> <td>    0.136</td> <td>    1.365</td>\n",
       "</tr>\n",
       "<tr>\n",
       "  <th>How many employees does your company or organization have?_26-100</th>                                                               <td>    0.6158</td> <td>    0.293</td> <td>    2.103</td> <td> 0.035</td> <td>    0.042</td> <td>    1.190</td>\n",
       "</tr>\n",
       "<tr>\n",
       "  <th>How many employees does your company or organization have?_500-1000</th>                                                             <td>    1.2051</td> <td>    0.420</td> <td>    2.869</td> <td> 0.004</td> <td>    0.382</td> <td>    2.028</td>\n",
       "</tr>\n",
       "<tr>\n",
       "  <th>How many employees does your company or organization have?_6-25</th>                                                                 <td>    0.6203</td> <td>    0.274</td> <td>    2.261</td> <td> 0.024</td> <td>    0.083</td> <td>    1.158</td>\n",
       "</tr>\n",
       "<tr>\n",
       "  <th>How many employees does your company or organization have?_More than 1000</th>                                                       <td>    0.9520</td> <td>    0.308</td> <td>    3.089</td> <td> 0.002</td> <td>    0.348</td> <td>    1.556</td>\n",
       "</tr>\n",
       "<tr>\n",
       "  <th>Does your employer provide mental health benefits?_Don't know</th>                                                                   <td>   -0.0965</td> <td>    0.208</td> <td>   -0.464</td> <td> 0.643</td> <td>   -0.504</td> <td>    0.311</td>\n",
       "</tr>\n",
       "<tr>\n",
       "  <th>Does your employer provide mental health benefits?_Yes</th>                                                                          <td>    0.0567</td> <td>    0.236</td> <td>    0.240</td> <td> 0.810</td> <td>   -0.406</td> <td>    0.519</td>\n",
       "</tr>\n",
       "<tr>\n",
       "  <th>Is your anonymity protected if you choose to take advantage of mental health or substance abuse treatment resources?_Don't know</th> <td>    0.2030</td> <td>    0.309</td> <td>    0.658</td> <td> 0.511</td> <td>   -0.402</td> <td>    0.808</td>\n",
       "</tr>\n",
       "<tr>\n",
       "  <th>Is your anonymity protected if you choose to take advantage of mental health or substance abuse treatment resources?_Yes</th>        <td>   -0.5083</td> <td>    0.328</td> <td>   -1.551</td> <td> 0.121</td> <td>   -1.151</td> <td>    0.134</td>\n",
       "</tr>\n",
       "<tr>\n",
       "  <th>How easy is it for you to take medical leave for a mental health condition?_Somewhat difficult</th>                                  <td>    0.4964</td> <td>    0.289</td> <td>    1.719</td> <td> 0.086</td> <td>   -0.070</td> <td>    1.062</td>\n",
       "</tr>\n",
       "<tr>\n",
       "  <th>How easy is it for you to take medical leave for a mental health condition?_Somewhat easy</th>                                       <td>   -0.4932</td> <td>    0.185</td> <td>   -2.664</td> <td> 0.008</td> <td>   -0.856</td> <td>   -0.130</td>\n",
       "</tr>\n",
       "<tr>\n",
       "  <th>How easy is it for you to take medical leave for a mental health condition?_Very difficult</th>                                      <td>    1.5189</td> <td>    0.405</td> <td>    3.749</td> <td> 0.000</td> <td>    0.725</td> <td>    2.313</td>\n",
       "</tr>\n",
       "<tr>\n",
       "  <th>How easy is it for you to take medical leave for a mental health condition?_Very easy</th>                                           <td>   -1.3643</td> <td>    0.216</td> <td>   -6.314</td> <td> 0.000</td> <td>   -1.788</td> <td>   -0.941</td>\n",
       "</tr>\n",
       "</table>"
      ],
      "text/plain": [
       "<class 'statsmodels.iolib.summary.Summary'>\n",
       "\"\"\"\n",
       "                           Logit Regression Results                           \n",
       "==============================================================================\n",
       "Dep. Variable:     mh_issue_neg_consq   No. Observations:                  987\n",
       "Model:                          Logit   Df Residuals:                      959\n",
       "Method:                           MLE   Df Model:                           27\n",
       "Date:                Fri, 10 Apr 2020   Pseudo R-squ.:                  0.1325\n",
       "Time:                        17:02:26   Log-Likelihood:                -572.61\n",
       "converged:                      False   LL-Null:                       -660.09\n",
       "                                        LLR p-value:                 1.308e-23\n",
       "===================================================================================================================================================================================================\n",
       "                                                                                                                                      coef    std err          z      P>|z|      [0.025      0.975]\n",
       "---------------------------------------------------------------------------------------------------------------------------------------------------------------------------------------------------\n",
       "Have you sought treatment for a mental health condition?_Yes                                                                        0.4669      0.160      2.916      0.004       0.153       0.781\n",
       "Is your employer primarily a tech company/organization?_Yes                                                                        -0.2500      0.191     -1.309      0.190      -0.624       0.124\n",
       "Age                                                                                                                                -0.1079      0.147     -0.732      0.464      -0.397       0.181\n",
       "Gender_Male                                                                                                                        -0.1519      0.171     -0.887      0.375      -0.487       0.184\n",
       "Country_United States                                                                                                              -0.0992      0.190     -0.522      0.602      -0.472       0.274\n",
       "Country_Mexico                                                                                                                    -18.1806   5614.605     -0.003      0.997    -1.1e+04     1.1e+04\n",
       "Country_Africa                                                                                                                     -0.8757      0.955     -0.917      0.359      -2.747       0.995\n",
       "Country_Canada                                                                                                                     -0.2585      0.334     -0.773      0.439      -0.914       0.397\n",
       "Country_Oceania                                                                                                                    -0.0460      0.488     -0.094      0.925      -1.002       0.910\n",
       "Country_Asia                                                                                                                        1.4430      0.737      1.959      0.050      -0.001       2.887\n",
       "Country_South America                                                                                                              -0.5488      0.726     -0.756      0.449      -1.971       0.873\n",
       "Country_The Bahamas                                                                                                                 1.2782      0.957      1.335      0.182      -0.598       3.154\n",
       "Do you have a family history of mental illness?_Yes                                                                                 0.4050      0.160      2.523      0.012       0.090       0.720\n",
       "Are you self-employed?_Yes                                                                                                          0.1281      0.298      0.430      0.667      -0.456       0.712\n",
       "Do you work remotely (outside of an office) at least 50% of the time?_Yes                                                           0.1296      0.172      0.755      0.450      -0.207       0.466\n",
       "How many employees does your company or organization have?_100-500                                                                  0.7502      0.313      2.393      0.017       0.136       1.365\n",
       "How many employees does your company or organization have?_26-100                                                                   0.6158      0.293      2.103      0.035       0.042       1.190\n",
       "How many employees does your company or organization have?_500-1000                                                                 1.2051      0.420      2.869      0.004       0.382       2.028\n",
       "How many employees does your company or organization have?_6-25                                                                     0.6203      0.274      2.261      0.024       0.083       1.158\n",
       "How many employees does your company or organization have?_More than 1000                                                           0.9520      0.308      3.089      0.002       0.348       1.556\n",
       "Does your employer provide mental health benefits?_Don't know                                                                      -0.0965      0.208     -0.464      0.643      -0.504       0.311\n",
       "Does your employer provide mental health benefits?_Yes                                                                              0.0567      0.236      0.240      0.810      -0.406       0.519\n",
       "Is your anonymity protected if you choose to take advantage of mental health or substance abuse treatment resources?_Don't know     0.2030      0.309      0.658      0.511      -0.402       0.808\n",
       "Is your anonymity protected if you choose to take advantage of mental health or substance abuse treatment resources?_Yes           -0.5083      0.328     -1.551      0.121      -1.151       0.134\n",
       "How easy is it for you to take medical leave for a mental health condition?_Somewhat difficult                                      0.4964      0.289      1.719      0.086      -0.070       1.062\n",
       "How easy is it for you to take medical leave for a mental health condition?_Somewhat easy                                          -0.4932      0.185     -2.664      0.008      -0.856      -0.130\n",
       "How easy is it for you to take medical leave for a mental health condition?_Very difficult                                          1.5189      0.405      3.749      0.000       0.725       2.313\n",
       "How easy is it for you to take medical leave for a mental health condition?_Very easy                                              -1.3643      0.216     -6.314      0.000      -1.788      -0.941\n",
       "===================================================================================================================================================================================================\n",
       "\"\"\""
      ]
     },
     "execution_count": 850,
     "metadata": {},
     "output_type": "execute_result"
    }
   ],
   "source": [
    "logit_consq_4 = sm.Logit(y_consq, x_main_demog_work_employer).fit()\n",
    "logit_consq_4.summary()"
   ]
  },
  {
   "cell_type": "code",
   "execution_count": 851,
   "metadata": {},
   "outputs": [
    {
     "data": {
      "text/plain": [
       "1201.2215212093238"
      ]
     },
     "execution_count": 851,
     "metadata": {},
     "output_type": "execute_result"
    }
   ],
   "source": [
    "logit_consq_4.aic"
   ]
  }
 ],
 "metadata": {
  "kernelspec": {
   "display_name": "Python 3",
   "language": "python",
   "name": "python3"
  },
  "language_info": {
   "codemirror_mode": {
    "name": "ipython",
    "version": 3
   },
   "file_extension": ".py",
   "mimetype": "text/x-python",
   "name": "python",
   "nbconvert_exporter": "python",
   "pygments_lexer": "ipython3",
   "version": "3.7.3"
  }
 },
 "nbformat": 4,
 "nbformat_minor": 2
}
